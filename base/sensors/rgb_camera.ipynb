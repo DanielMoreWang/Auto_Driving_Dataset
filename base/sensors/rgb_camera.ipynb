{
 "cells": [
  {
   "cell_type": "markdown",
   "metadata": {},
   "source": [
    "### Image principle"
   ]
  },
  {
   "cell_type": "markdown",
   "metadata": {},
   "source": [
    "### Camera Calibration"
   ]
  },
  {
   "cell_type": "markdown",
   "metadata": {},
   "source": [
    "from Zhengyou Zhang"
   ]
  },
  {
   "cell_type": "markdown",
   "metadata": {},
   "source": [
    "图像上每一点的亮度反映了空间物体表面某点反射光的强度，而该点在图像上的位置则与空间物体表面相应点的几何位置有关。这些位置的相互关系，由摄像机成像几何模型所决定。该几何模型的参数成为摄像机参数，这些参数必须由实验与计算来确定，实验与计算的过程称为**摄像机定标**。"
   ]
  },
  {
   "cell_type": "markdown",
   "metadata": {},
   "source": [
    "摄像机模型是光学成像几何关系的简化，最简单的模型为线性模型，或成为**针孔模型（pin-hole model）**。"
   ]
  },
  {
   "cell_type": "markdown",
   "metadata": {},
   "source": [
    "定量描述光学成像过程的三个坐标系, **图像坐标系**,**摄像机坐标系**,**世界坐标系**"
   ]
  },
  {
   "cell_type": "markdown",
   "metadata": {},
   "source": [
    "图像坐标系：在图像上定义的直角坐标系，包括像素点位置为单位的坐标系，以及以物理单位（例如mm）表示的图像坐标系，可通过原点坐标以及像素尺寸来转换.  \n",
    "摄像机坐标系：通常以摄像机的光心为原点，与图像的X，Y轴平行的X,Y轴，图像经过光心的法线为Z轴，构建的直角坐标系。  \n",
    "世界坐标系：现实中描述环境中任何物体的位置的坐标系。摄像机坐标系与世界坐标系之间可以通过一个旋转矩阵$R$ 与平移向量 $t$来描述。"
   ]
  },
  {
   "cell_type": "markdown",
   "metadata": {},
   "source": [
    "摄像机内参： 将空间点从摄像机坐标系投影到图像上以像素为单位的图像坐标系所需要的参数，只与摄像机内部结构有关。  \n",
    "摄像机外参： 用于世界坐标系和摄像机坐标系的投影转换所需要的参数。  \n",
    "确定某一摄像机的内外参数的过程，称为摄像机定标。"
   ]
  }
 ],
 "metadata": {
  "language_info": {
   "name": "python"
  }
 },
 "nbformat": 4,
 "nbformat_minor": 2
}

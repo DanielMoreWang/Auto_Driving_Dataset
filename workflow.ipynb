{
 "cells": [
  {
   "cell_type": "code",
   "execution_count": null,
   "metadata": {},
   "outputs": [],
   "source": [
    "# construct the docker image based on the Dockerfile under the root directionary\n",
    "% docker build rgbt_dataset ."
   ]
  },
  {
   "cell_type": "code",
   "execution_count": null,
   "metadata": {},
   "outputs": [],
   "source": [
    "# creat a docker container that could access to all the devices on local computer\n",
    "# via  \"--privileged\" flag:\n",
    "# % sudo docker run --privileged -it --name rgbt_dataset_full_access -v /home/labsun/Sun_Dataset:/workspace rgbt_dataset"
   ]
  },
  {
   "cell_type": "code",
   "execution_count": null,
   "metadata": {},
   "outputs": [],
   "source": [
    "# creat a docker container that could access to all the devices on local computer\n",
    "# via  \"--privileged\" flag:\n",
    "# \n",
    "% xhost +local:root\n",
    "\n",
    "% sudo docker run --privileged -it --name rgbt_dataset_full_access -v /home/labsun/Sun_Dataset:/workspace -e DISPLAY=$DISPLAY -v /tmp/.X11-unix:/tmp/.X11-unix rgbt_dataset"
   ]
  },
  {
   "cell_type": "code",
   "execution_count": null,
   "metadata": {},
   "outputs": [],
   "source": [
    "# start another docker container session via command below\n",
    "% sudo docker exec -it rgbt_dataset_full_access /bin/bash"
   ]
  },
  {
   "cell_type": "code",
   "execution_count": null,
   "metadata": {},
   "outputs": [],
   "source": [
    "# install v4l2-utils utility\n",
    "% sudo apt update\n",
    "% sudo apt install v4l-utils\n",
    "# check devices connected on local computer via command below\n",
    "% sudo v4l2-ctl --list-devices\n"
   ]
  }
 ],
 "metadata": {
  "language_info": {
   "name": "python"
  }
 },
 "nbformat": 4,
 "nbformat_minor": 2
}
